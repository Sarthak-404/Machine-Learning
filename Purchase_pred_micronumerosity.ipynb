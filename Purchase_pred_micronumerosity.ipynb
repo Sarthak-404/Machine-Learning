{
 "cells": [
  {
   "cell_type": "code",
   "execution_count": 1,
   "metadata": {},
   "outputs": [
    {
     "data": {
      "text/plain": [
       "<bound method NDFrame.head of     Customer ID  Age  Gender Education   Review Purchased\n",
       "0          1021   30  Female    School  Average        No\n",
       "1          1022   68  Female        UG     Poor        No\n",
       "2          1023   70  Female        PG     Good        No\n",
       "3          1024   72  Female        PG     Good        No\n",
       "4          1025   16  Female        UG  Average        No\n",
       "5          1026   31  Female    School  Average       Yes\n",
       "6          1027   18    Male    School     Good        No\n",
       "7          1028   60  Female    School     Poor       Yes\n",
       "8          1029   65  Female        UG  Average        No\n",
       "9          1030   74    Male        UG     Good       Yes\n",
       "10         1031   98  Female        UG     Good       Yes\n",
       "11         1032   74    Male        UG     Good       Yes\n",
       "12         1033   51    Male    School     Poor        No\n",
       "13         1034   57  Female    School  Average        No\n",
       "14         1035   15    Male        PG     Poor       Yes\n",
       "15         1036   75    Male        UG     Poor        No\n",
       "16         1037   59    Male        UG     Poor       Yes\n",
       "17         1038   22  Female        UG     Poor       Yes\n",
       "18         1039   19    Male    School     Good        No\n",
       "19         1040   97    Male        PG     Poor       Yes\n",
       "20         1041   57  Female    School  Average       Yes\n",
       "21         1042   32    Male        PG  Average        No\n",
       "22         1043   18  Female        PG     Poor       Yes\n",
       "23         1044   96  Female    School     Good        No\n",
       "24         1045   16  Female        PG  Average       Yes\n",
       "25         1046   57  Female    School     Good        No\n",
       "26         1047   53  Female        PG     Poor        No\n",
       "27         1048   69  Female        PG     Poor        No\n",
       "28         1049   48    Male    School     Poor        No\n",
       "29         1050   83  Female        UG  Average       Yes\n",
       "30         1051   73    Male        UG  Average        No\n",
       "31         1052   22  Female    School     Poor       Yes\n",
       "32         1053   92    Male        UG  Average       Yes\n",
       "33         1054   89  Female        PG     Good       Yes\n",
       "34         1055   86    Male    School  Average        No\n",
       "35         1056   74    Male    School     Poor       Yes\n",
       "36         1057   34  Female        UG     Good       Yes\n",
       "37         1058   94    Male        PG  Average       Yes\n",
       "38         1059   45  Female    School     Good        No\n",
       "39         1060   76    Male        PG     Poor        No\n",
       "40         1061   39    Male    School     Good        No\n",
       "41         1062   23    Male        PG     Good       Yes\n",
       "42         1063   30  Female        PG     Good       Yes\n",
       "43         1064   27    Male        PG     Poor        No\n",
       "44         1065   77  Female        UG  Average        No\n",
       "45         1066   61    Male        PG     Poor       Yes\n",
       "46         1067   64  Female        PG     Poor        No\n",
       "47         1068   38  Female        PG     Good       Yes\n",
       "48         1069   39  Female        UG     Good       Yes\n",
       "49         1070   25  Female        UG     Good        No>"
      ]
     },
     "execution_count": 1,
     "metadata": {},
     "output_type": "execute_result"
    }
   ],
   "source": [
    "import pandas as pd\n",
    "purchase = pd.read_csv('https://github.com/YBIFoundation/Dataset/raw/main/Customer%20Purchase.csv')\n",
    "purchase.head"
   ]
  },
  {
   "cell_type": "code",
   "execution_count": 2,
   "metadata": {},
   "outputs": [
    {
     "data": {
      "text/plain": [
       "Index(['Customer ID', 'Age', 'Gender', 'Education', 'Review', 'Purchased'], dtype='object')"
      ]
     },
     "execution_count": 2,
     "metadata": {},
     "output_type": "execute_result"
    }
   ],
   "source": [
    "purchase.columns"
   ]
  },
  {
   "cell_type": "code",
   "execution_count": 3,
   "metadata": {},
   "outputs": [
    {
     "data": {
      "text/plain": [
       "<bound method NDFrame.head of     Age  Gender  Education  Review\n",
       "0    30       0          0       1\n",
       "1    68       0          1       0\n",
       "2    70       0          2       2\n",
       "3    72       0          2       2\n",
       "4    16       0          1       1\n",
       "5    31       0          0       1\n",
       "6    18       1          0       2\n",
       "7    60       0          0       0\n",
       "8    65       0          1       1\n",
       "9    74       1          1       2\n",
       "10   98       0          1       2\n",
       "11   74       1          1       2\n",
       "12   51       1          0       0\n",
       "13   57       0          0       1\n",
       "14   15       1          2       0\n",
       "15   75       1          1       0\n",
       "16   59       1          1       0\n",
       "17   22       0          1       0\n",
       "18   19       1          0       2\n",
       "19   97       1          2       0\n",
       "20   57       0          0       1\n",
       "21   32       1          2       1\n",
       "22   18       0          2       0\n",
       "23   96       0          0       2\n",
       "24   16       0          2       1\n",
       "25   57       0          0       2\n",
       "26   53       0          2       0\n",
       "27   69       0          2       0\n",
       "28   48       1          0       0\n",
       "29   83       0          1       1\n",
       "30   73       1          1       1\n",
       "31   22       0          0       0\n",
       "32   92       1          1       1\n",
       "33   89       0          2       2\n",
       "34   86       1          0       1\n",
       "35   74       1          0       0\n",
       "36   34       0          1       2\n",
       "37   94       1          2       1\n",
       "38   45       0          0       2\n",
       "39   76       1          2       0\n",
       "40   39       1          0       2\n",
       "41   23       1          2       2\n",
       "42   30       0          2       2\n",
       "43   27       1          2       0\n",
       "44   77       0          1       1\n",
       "45   61       1          2       0\n",
       "46   64       0          2       0\n",
       "47   38       0          2       2\n",
       "48   39       0          1       2\n",
       "49   25       0          1       2>"
      ]
     },
     "execution_count": 3,
     "metadata": {},
     "output_type": "execute_result"
    }
   ],
   "source": [
    "y = purchase['Purchased']\n",
    "X = purchase.drop(['Customer ID','Purchased'], axis = 1)\n",
    "X.replace({'Review':{'Poor':0, 'Average':1, 'Good':2}}, inplace=True)\n",
    "X.replace({'Education':{'School':0, 'UG':1 ,'PG': 2}}, inplace=True)\n",
    "X.replace({'Gender':{'Female':0,'Male':1}},inplace=True)\n",
    "X.head"
   ]
  },
  {
   "cell_type": "code",
   "execution_count": 4,
   "metadata": {},
   "outputs": [
    {
     "data": {
      "text/plain": [
       "((40, 4), (10, 4), (40,), (10,))"
      ]
     },
     "execution_count": 4,
     "metadata": {},
     "output_type": "execute_result"
    }
   ],
   "source": [
    "from sklearn.model_selection import train_test_split\n",
    "X_train, X_test, y_train, y_test = train_test_split(X,y, train_size=0.8)\n",
    "X_train.shape, X_test.shape, y_train.shape, y_test.shape"
   ]
  },
  {
   "cell_type": "code",
   "execution_count": 5,
   "metadata": {},
   "outputs": [
    {
     "data": {
      "text/plain": [
       "array(['No', 'Yes', 'No', 'No', 'No', 'No', 'Yes', 'Yes', 'No', 'Yes'],\n",
       "      dtype=object)"
      ]
     },
     "execution_count": 5,
     "metadata": {},
     "output_type": "execute_result"
    }
   ],
   "source": [
    "from sklearn.ensemble import RandomForestClassifier\n",
    "model = RandomForestClassifier()\n",
    "model.fit(X_train, y_train)\n",
    "y_pred = model.predict(X_test)\n",
    "y_pred"
   ]
  },
  {
   "cell_type": "code",
   "execution_count": 6,
   "metadata": {},
   "outputs": [
    {
     "data": {
      "text/plain": [
       "0.7"
      ]
     },
     "execution_count": 6,
     "metadata": {},
     "output_type": "execute_result"
    }
   ],
   "source": [
    "from sklearn.metrics import accuracy_score, confusion_matrix\n",
    "accuracy_score(y_test, y_pred)"
   ]
  },
  {
   "cell_type": "code",
   "execution_count": 7,
   "metadata": {},
   "outputs": [
    {
     "data": {
      "text/plain": [
       "array([[4, 1],\n",
       "       [2, 3]], dtype=int64)"
      ]
     },
     "execution_count": 7,
     "metadata": {},
     "output_type": "execute_result"
    }
   ],
   "source": [
    "confusion_matrix(y_test, y_pred)"
   ]
  }
 ],
 "metadata": {
  "kernelspec": {
   "display_name": "Python 3",
   "language": "python",
   "name": "python3"
  },
  "language_info": {
   "codemirror_mode": {
    "name": "ipython",
    "version": 3
   },
   "file_extension": ".py",
   "mimetype": "text/x-python",
   "name": "python",
   "nbconvert_exporter": "python",
   "pygments_lexer": "ipython3",
   "version": "3.11.5"
  },
  "orig_nbformat": 4
 },
 "nbformat": 4,
 "nbformat_minor": 2
}
