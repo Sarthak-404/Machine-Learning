{
 "cells": [
  {
   "cell_type": "code",
   "execution_count": 1,
   "metadata": {},
   "outputs": [
    {
     "data": {
      "text/plain": [
       "<bound method NDFrame.head of      Temperature  Revenue\n",
       "0           24.6      535\n",
       "1           26.1      626\n",
       "2           27.8      661\n",
       "3           20.6      488\n",
       "4           11.6      317\n",
       "..           ...      ...\n",
       "495         22.3      525\n",
       "496         32.9      756\n",
       "497         12.6      307\n",
       "498         22.4      567\n",
       "499         29.0      656\n",
       "\n",
       "[500 rows x 2 columns]>"
      ]
     },
     "execution_count": 1,
     "metadata": {},
     "output_type": "execute_result"
    }
   ],
   "source": [
    "import pandas as pd\n",
    "revenue = pd.read_csv('https://github.com/ybifoundation/Dataset/raw/main/Ice%20Cream.csv')\n",
    "revenue.head"
   ]
  },
  {
   "cell_type": "code",
   "execution_count": 2,
   "metadata": {},
   "outputs": [
    {
     "data": {
      "text/plain": [
       "Index(['Temperature', 'Revenue'], dtype='object')"
      ]
     },
     "execution_count": 2,
     "metadata": {},
     "output_type": "execute_result"
    }
   ],
   "source": [
    "revenue.columns"
   ]
  },
  {
   "cell_type": "code",
   "execution_count": 4,
   "metadata": {},
   "outputs": [
    {
     "data": {
      "text/plain": [
       "((375, 1), (125, 1), (375,), (125,))"
      ]
     },
     "execution_count": 4,
     "metadata": {},
     "output_type": "execute_result"
    }
   ],
   "source": [
    "y = revenue['Revenue']\n",
    "X = revenue[['Temperature']]\n",
    "from sklearn.model_selection import train_test_split\n",
    "X_train, X_test, y_train, y_test = train_test_split(X,y)\n",
    "X_train.shape, X_test.shape, y_train.shape, y_test.shape"
   ]
  },
  {
   "cell_type": "code",
   "execution_count": 5,
   "metadata": {},
   "outputs": [
    {
     "data": {
      "text/plain": [
       "array([725.45364509, 542.62381136, 959.90602011, 514.6616015 ,\n",
       "       721.15176665, 843.75530221, 366.24679529, 447.98248567,\n",
       "       585.64259577, 624.35950173, 583.49165655, 641.5670155 ,\n",
       "       460.88812099, 680.28392146, 811.4912139 , 663.0764077 ,\n",
       "       202.77541455, 372.69961296, 267.30359116, 181.26602235,\n",
       "       770.62336872, 800.7365178 , 443.68060723, 263.00171272,\n",
       "       607.15198797, 660.92546848, 703.94425289, 269.45453038,\n",
       "       611.45386641, 303.8695579 , 207.07729299, 632.96325862,\n",
       "       361.94491685, 232.88856363, 564.13320357, 746.96303729,\n",
       "       695.34049601, 521.11441916, 536.1709937 , 602.85010953,\n",
       "       710.39707055, 559.83132512, 587.79353499, 570.58602123,\n",
       "        65.11530445, 525.4162976 , 398.5108836 , 531.86911526,\n",
       "       480.24657397, 684.5857999 , 306.02049713, 170.51132624,\n",
       "       400.66182282, 450.13342489, 751.26491573, 589.94447421,\n",
       "       766.32149028, 572.73696045, 456.58624255, 293.1148618 ,\n",
       "       512.51066228, 239.34138129, 785.67994326, 424.32215424,\n",
       "       708.24613133, 424.32215424, 170.51132624, 665.22734692,\n",
       "       247.94513818, 622.20856251, 452.28436411, 413.56745814,\n",
       "       611.45386641, 581.34071733,  50.05872991, 628.66138018,\n",
       "       673.8311038 , 353.34115997, 673.8311038 , 632.96325862,\n",
       "       598.54823109, 495.30314851, 424.32215424, 323.22801089,\n",
       "       637.26513706, 510.35972306, 540.47287214, 415.71839736,\n",
       "       594.24635265, 392.05806594, 411.41651892, 422.17121502,\n",
       "       716.84988821, 521.11441916, 471.64281709, 129.64348106,\n",
       "       269.45453038, 529.71817604, 527.56723682, 805.03839624,\n",
       "       394.20900516, 654.47265082, 830.84966689, 450.13342489,\n",
       "       703.94425289, 592.09541343, 860.96281597, 310.32237557,\n",
       "       531.86911526, 589.94447421, 663.0764077 , 181.26602235,\n",
       "       637.26513706, 456.58624255, 607.15198797, 746.96303729,\n",
       "       798.58557858, 314.62425401, 473.79375631, 521.11441916,\n",
       "       525.4162976 , 660.92546848, 282.3601657 , 777.07618638,\n",
       "       454.43530333])"
      ]
     },
     "execution_count": 5,
     "metadata": {},
     "output_type": "execute_result"
    }
   ],
   "source": [
    "from sklearn.linear_model import LinearRegression\n",
    "model = LinearRegression()\n",
    "model.fit(X_train, y_train)\n",
    "y_pred = model.predict(X_test)\n",
    "y_pred\n"
   ]
  },
  {
   "cell_type": "code",
   "execution_count": 6,
   "metadata": {},
   "outputs": [
    {
     "name": "stdout",
     "output_type": "stream",
     "text": [
      "0.04627061393323148\n"
     ]
    }
   ],
   "source": [
    "from sklearn.metrics import mean_absolute_percentage_error\n",
    "print(mean_absolute_percentage_error(y_test, y_pred))"
   ]
  }
 ],
 "metadata": {
  "kernelspec": {
   "display_name": "Python 3",
   "language": "python",
   "name": "python3"
  },
  "language_info": {
   "codemirror_mode": {
    "name": "ipython",
    "version": 3
   },
   "file_extension": ".py",
   "mimetype": "text/x-python",
   "name": "python",
   "nbconvert_exporter": "python",
   "pygments_lexer": "ipython3",
   "version": "3.11.3"
  },
  "orig_nbformat": 4
 },
 "nbformat": 4,
 "nbformat_minor": 2
}
