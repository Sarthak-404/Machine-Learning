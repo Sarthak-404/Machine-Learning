{
 "cells": [
  {
   "cell_type": "code",
   "execution_count": 8,
   "metadata": {},
   "outputs": [
    {
     "ename": "NameError",
     "evalue": "name 'compute_cost' is not defined",
     "output_type": "error",
     "traceback": [
      "\u001b[1;31m---------------------------------------------------------------------------\u001b[0m",
      "\u001b[1;31mNameError\u001b[0m                                 Traceback (most recent call last)",
      "Cell \u001b[1;32mIn[8], line 32\u001b[0m\n\u001b[0;32m     29\u001b[0m     total_cost \u001b[39m=\u001b[39m (\u001b[39m1\u001b[39m \u001b[39m/\u001b[39m (\u001b[39m2\u001b[39m \u001b[39m*\u001b[39m m)) \u001b[39m*\u001b[39m cost_sum  \n\u001b[0;32m     31\u001b[0m     \u001b[39mreturn\u001b[39;00m total_cost\n\u001b[1;32m---> 32\u001b[0m plt_intuition(x_train,y_train)\n\u001b[0;32m     33\u001b[0m \u001b[39m'''x_train = np.array([1.0, 1.7, 2.0, 2.5, 3.0, 3.2])\u001b[39;00m\n\u001b[0;32m     34\u001b[0m \u001b[39my_train = np.array([250, 300, 480,  430,   630, 730,])\u001b[39;00m\n\u001b[0;32m     35\u001b[0m \u001b[39mplt.close('all') \u001b[39;00m\n\u001b[0;32m     36\u001b[0m \u001b[39mfig, ax, dyn_items = plt_stationary(x_train, y_train)\u001b[39;00m\n\u001b[0;32m     37\u001b[0m \u001b[39mupdater = plt_update_onclick(fig, ax, x_train, y_train, dyn_items)\u001b[39;00m\n\u001b[0;32m     38\u001b[0m \u001b[39msoup_bowl()'''\u001b[39;00m\n",
      "File \u001b[1;32mc:\\Users\\sarth\\OneDrive\\Documents\\Machine Learning\\Week 1\\lab_utils_uni.py:75\u001b[0m, in \u001b[0;36mplt_intuition\u001b[1;34m(x_train, y_train)\u001b[0m\n\u001b[0;32m     73\u001b[0m \u001b[39mfor\u001b[39;00m i \u001b[39min\u001b[39;00m \u001b[39mrange\u001b[39m(\u001b[39mlen\u001b[39m(w_array)):\n\u001b[0;32m     74\u001b[0m     tmp_w \u001b[39m=\u001b[39m w_array[i]\n\u001b[1;32m---> 75\u001b[0m     cost[i] \u001b[39m=\u001b[39m compute_cost(x_train, y_train, tmp_w, tmp_b)\n\u001b[0;32m     77\u001b[0m \u001b[39m@interact\u001b[39m(w\u001b[39m=\u001b[39m(\u001b[39m*\u001b[39mw_range,\u001b[39m10\u001b[39m),continuous_update\u001b[39m=\u001b[39m\u001b[39mFalse\u001b[39;00m)\n\u001b[0;32m     78\u001b[0m \u001b[39mdef\u001b[39;00m \u001b[39mfunc\u001b[39m( w\u001b[39m=\u001b[39m\u001b[39m150\u001b[39m):\n\u001b[0;32m     79\u001b[0m     f_wb \u001b[39m=\u001b[39m np\u001b[39m.\u001b[39mdot(x_train, w) \u001b[39m+\u001b[39m tmp_b\n",
      "\u001b[1;31mNameError\u001b[0m: name 'compute_cost' is not defined"
     ]
    }
   ],
   "source": [
    "import numpy as np\n",
    "#%matplotlib widget\n",
    "import matplotlib.pyplot as plt\n",
    "from lab_utils_uni import plt_intuition, plt_stationary, plt_update_onclick, soup_bowl\n",
    "#plt.style.use('./deeplearning.mplstyle')\n",
    "x_train = np.array([1.0, 2.0])           #(size in 1000 square feet)\n",
    "y_train = np.array([300.0, 500.0])           #(price in 1000s of dollars)\n",
    "def compute_cost(x, y, w, b): \n",
    "    \"\"\"\n",
    "    Computes the cost function for linear regression.\n",
    "    \n",
    "    Args:\n",
    "      x (ndarray (m,)): Data, m examples \n",
    "      y (ndarray (m,)): target values\n",
    "      w,b (scalar)    : model parameters  \n",
    "    \n",
    "    Returns\n",
    "        total_cost (float): The cost of using w,b as the parameters for linear regression\n",
    "               to fit the data points in x and y\n",
    "    \"\"\"\n",
    "    # number of training examples\n",
    "    m = x.shape[0] \n",
    "    \n",
    "    cost_sum = 0 \n",
    "    for i in range(m): \n",
    "        f_wb = w * x[i] + b   \n",
    "        cost = (f_wb - y[i]) ** 2  \n",
    "        cost_sum = cost_sum + cost  \n",
    "    total_cost = (1 / (2 * m)) * cost_sum  \n",
    "\n",
    "    return total_cost\n",
    "plt_intuition(x_train,y_train)\n",
    "'''x_train = np.array([1.0, 1.7, 2.0, 2.5, 3.0, 3.2])\n",
    "y_train = np.array([250, 300, 480,  430,   630, 730,])\n",
    "plt.close('all') \n",
    "fig, ax, dyn_items = plt_stationary(x_train, y_train)\n",
    "updater = plt_update_onclick(fig, ax, x_train, y_train, dyn_items)\n",
    "soup_bowl()'''"
   ]
  }
 ],
 "metadata": {
  "kernelspec": {
   "display_name": "Python 3",
   "language": "python",
   "name": "python3"
  },
  "language_info": {
   "codemirror_mode": {
    "name": "ipython",
    "version": 3
   },
   "file_extension": ".py",
   "mimetype": "text/x-python",
   "name": "python",
   "nbconvert_exporter": "python",
   "pygments_lexer": "ipython3",
   "version": "3.11.3"
  },
  "orig_nbformat": 4
 },
 "nbformat": 4,
 "nbformat_minor": 2
}
