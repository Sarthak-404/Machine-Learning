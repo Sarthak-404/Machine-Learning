{
 "cells": [
  {
   "cell_type": "code",
   "execution_count": 1,
   "metadata": {},
   "outputs": [
    {
     "data": {
      "text/plain": [
       "Index(['Category', 'Species', 'Weight', 'Height', 'Width', 'Length1',\n",
       "       'Length2', 'Length3'],\n",
       "      dtype='object')"
      ]
     },
     "execution_count": 1,
     "metadata": {},
     "output_type": "execute_result"
    }
   ],
   "source": [
    "import pandas as pd\n",
    "fish = pd.read_csv('https://github.com/ybifoundation/Dataset/raw/main/Fish.csv')\n",
    "fish.columns"
   ]
  },
  {
   "cell_type": "code",
   "execution_count": 2,
   "metadata": {},
   "outputs": [
    {
     "data": {
      "text/plain": [
       "((111, 6), (48, 6), (111,), (48,))"
      ]
     },
     "execution_count": 2,
     "metadata": {},
     "output_type": "execute_result"
    }
   ],
   "source": [
    "y = fish['Weight']\n",
    "X = fish.drop(['Species', 'Weight'], axis = 1)\n",
    "from sklearn.model_selection import train_test_split\n",
    "X_train, X_test, y_train, y_test = train_test_split(X,y, train_size=0.7)\n",
    "X_train.shape, X_test.shape, y_train.shape, y_test.shape"
   ]
  },
  {
   "cell_type": "code",
   "execution_count": 3,
   "metadata": {},
   "outputs": [
    {
     "data": {
      "text/plain": [
       "array([  14.13311334,  145.30202288,  185.26336419,  928.14915601,\n",
       "        420.10003944,  374.36986605,  676.94934804, -153.73392474,\n",
       "        189.72054578,  179.92169035,  251.25562651,  384.12705811,\n",
       "        491.5231865 ,  -51.07798918, -160.5487307 ,  261.34969558,\n",
       "        512.17601087,  591.42263678,  838.34760124,  570.7513671 ,\n",
       "         69.83064128, -115.24955876,  692.04151181,  561.00097436,\n",
       "        238.92090239,  334.32132279,  -48.87771872,  380.595453  ,\n",
       "        231.72491832,  739.84274814,  582.53117913,  553.91611712,\n",
       "        324.77719582,   61.58698632,  389.85184171,   84.45566035,\n",
       "        736.57978849,  673.47113278,  519.54853407,  580.61428797,\n",
       "        978.84281716, 1196.22546854,  -71.11926118, -129.0446226 ,\n",
       "        350.42011007, -332.87490806,  901.41789885,  287.23466566])"
      ]
     },
     "execution_count": 3,
     "metadata": {},
     "output_type": "execute_result"
    }
   ],
   "source": [
    "from sklearn.linear_model import LinearRegression\n",
    "model = LinearRegression()\n",
    "model.fit(X_train, y_train)\n",
    "y_pred = model.predict(X_test)\n",
    "y_pred"
   ]
  },
  {
   "cell_type": "code",
   "execution_count": 5,
   "metadata": {},
   "outputs": [
    {
     "data": {
      "text/plain": [
       "100.15427613458036"
      ]
     },
     "execution_count": 5,
     "metadata": {},
     "output_type": "execute_result"
    }
   ],
   "source": [
    "from sklearn.metrics import mean_absolute_error\n",
    "mean_absolute_error(y_test, y_pred)\n",
    "#hence need a better model than linear regression "
   ]
  }
 ],
 "metadata": {
  "kernelspec": {
   "display_name": "Python 3",
   "language": "python",
   "name": "python3"
  },
  "language_info": {
   "codemirror_mode": {
    "name": "ipython",
    "version": 3
   },
   "file_extension": ".py",
   "mimetype": "text/x-python",
   "name": "python",
   "nbconvert_exporter": "python",
   "pygments_lexer": "ipython3",
   "version": "3.11.3"
  },
  "orig_nbformat": 4
 },
 "nbformat": 4,
 "nbformat_minor": 2
}
